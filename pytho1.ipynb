{
 "cells": [
  {
   "cell_type": "code",
   "execution_count": 3,
   "metadata": {},
   "outputs": [
    {
     "name": "stdout",
     "output_type": "stream",
     "text": [
      "625.6999999999999\n"
     ]
    }
   ],
   "source": [
    "print(12.3+45.6+567.8, sep=\"+\") #sep should be in the end"
   ]
  },
  {
   "cell_type": "code",
   "execution_count": 8,
   "metadata": {},
   "outputs": [
    {
     "name": "stdout",
     "output_type": "stream",
     "text": [
      "hello\thello\n"
     ]
    }
   ],
   "source": [
    "print(\"hello\",end='\\t')\n",
    "print(\"hello\",)"
   ]
  },
  {
   "cell_type": "code",
   "execution_count": 9,
   "metadata": {},
   "outputs": [
    {
     "name": "stdout",
     "output_type": "stream",
     "text": [
      "7\n"
     ]
    }
   ],
   "source": [
    "print(2+5)"
   ]
  },
  {
   "cell_type": "code",
   "execution_count": 11,
   "metadata": {},
   "outputs": [
    {
     "name": "stdout",
     "output_type": "stream",
     "text": [
      "2+5.5= 7.5\n"
     ]
    }
   ],
   "source": [
    "print(\"2+5.5=\",2+5.5)"
   ]
  },
  {
   "cell_type": "code",
   "execution_count": 13,
   "metadata": {},
   "outputs": [
    {
     "name": "stdout",
     "output_type": "stream",
     "text": [
      "2hello\n"
     ]
    }
   ],
   "source": [
    "print(str(2)+\"hello\") #wrapping"
   ]
  },
  {
   "cell_type": "code",
   "execution_count": 16,
   "metadata": {},
   "outputs": [
    {
     "name": "stdout",
     "output_type": "stream",
     "text": [
      "102\n"
     ]
    }
   ],
   "source": [
    "print(2+int(\"100\")) #wrapping integer type casting"
   ]
  },
  {
   "cell_type": "code",
   "execution_count": 17,
   "metadata": {},
   "outputs": [
    {
     "name": "stdout",
     "output_type": "stream",
     "text": [
      "102\n"
     ]
    }
   ],
   "source": [
    "print(2+int(\"100\"))"
   ]
  },
  {
   "cell_type": "code",
   "execution_count": 33,
   "metadata": {},
   "outputs": [
    {
     "name": "stdout",
     "output_type": "stream",
     "text": [
      "my name is Aashir and my age is 15 last name is Khan\n"
     ]
    }
   ],
   "source": [
    "name=\"Aashir\"\n",
    "age=15\n",
    "lastname=\"Khan\"\n",
    "\n",
    "\n",
    "print(\"my name is \"+name+\" and my age is \"+ str(age)+\" last name is \"+lastname)\n",
    "\n"
   ]
  },
  {
   "cell_type": "code",
   "execution_count": 36,
   "metadata": {},
   "outputs": [
    {
     "name": "stdout",
     "output_type": "stream",
     "text": [
      "my name is Aashir and my age is 15\n"
     ]
    }
   ],
   "source": [
    "print(\"my name is {0} and my age is {1}\".format(name, age, lastname)) #curly brackets are placeholders"
   ]
  },
  {
   "cell_type": "code",
   "execution_count": 40,
   "metadata": {},
   "outputs": [
    {
     "name": "stdout",
     "output_type": "stream",
     "text": [
      "my name is Aashir and my age is 15 and my lastname is Khan\n"
     ]
    }
   ],
   "source": [
    "print(f\"my name is {name} and my age is {age} and my lastname is {lastname}\") #use f after print instead of format"
   ]
  },
  {
   "cell_type": "code",
   "execution_count": 44,
   "metadata": {},
   "outputs": [
    {
     "data": {
      "text/plain": [
       "float"
      ]
     },
     "execution_count": 44,
     "metadata": {},
     "output_type": "execute_result"
    }
   ],
   "source": [
    "a=10.5 #we can directly declare\n",
    "type(a)"
   ]
  },
  {
   "cell_type": "code",
   "execution_count": 49,
   "metadata": {},
   "outputs": [
    {
     "data": {
      "text/plain": [
       "str"
      ]
     },
     "execution_count": 49,
     "metadata": {},
     "output_type": "execute_result"
    }
   ],
   "source": [
    "b= \"Frue\"\n",
    "type(b)"
   ]
  },
  {
   "cell_type": "code",
   "execution_count": 55,
   "metadata": {},
   "outputs": [
    {
     "name": "stdout",
     "output_type": "stream",
     "text": [
      "hellohellohellohellohellohello\n"
     ]
    }
   ],
   "source": [
    "print(\"hello\"*6,)"
   ]
  },
  {
   "cell_type": "code",
   "execution_count": 53,
   "metadata": {},
   "outputs": [
    {
     "data": {
      "text/plain": [
       "1.3333333333333333"
      ]
     },
     "execution_count": 53,
     "metadata": {},
     "output_type": "execute_result"
    }
   ],
   "source": [
    "4/3"
   ]
  },
  {
   "cell_type": "code",
   "execution_count": 11,
   "metadata": {},
   "outputs": [
    {
     "name": "stdout",
     "output_type": "stream",
     "text": [
      "1.436241610738255\n"
     ]
    },
    {
     "data": {
      "text/plain": [
       "1"
      ]
     },
     "execution_count": 11,
     "metadata": {},
     "output_type": "execute_result"
    }
   ],
   "source": [
    "a=1070\n",
    "b=745\n",
    "c=a/b\n",
    "print(c)# / for float // for integer \n",
    "round(c)"
   ]
  },
  {
   "cell_type": "markdown",
   "metadata": {},
   "source": [
    "Jsashdeyaed Jsashdeyaed Jsashdeyaed Jsashdeyaed Jsashdeyaed Jsashdeyaed Jsashdeyaed Jsashdeyaed Jsashdeyaed Jsashdeyaed Jsashdeyaed Jsashdeyaed Jsashdeyaed Jsashdeyaed Jsashdeyaed Jsashdeyaed Jsashdeyaed Jsashdeyaed Jsashdeyaed Jsashdeyaed Jsashdeyaed Jsashdeyaed Jsashdeyaed Jsashdeyaed Jsashdeyaed Jsashdeyaed Jsashdeyaed Jsashdeyaed Jsashdeyaed Jsashdeyaed Jsashdeyaed Jsashdeyaed Jsashdeyaed Jsashdeyaed Jsashdeyaed Jsashdeyaed Jsashdeyaed Jsashdeyaed Jsashdeyaed Jsashdeyaed Jsashdeyaed Jsashdeyaed Jsashdeyaed Jsashdeyaed Jsashdeyaed Jsashdeyaed Jsashdeyaed Jsashdeyaed Jsashdeyaed Jsashdeyaed "
   ]
  },
  {
   "cell_type": "markdown",
   "metadata": {},
   "source": [
    "# HGHSHGHS"
   ]
  },
  {
   "cell_type": "code",
   "execution_count": 1,
   "metadata": {},
   "outputs": [
    {
     "name": "stdout",
     "output_type": "stream",
     "text": [
      "enter a number5\n",
      "5 is odd\n"
     ]
    }
   ],
   "source": [
    "a=int(input(\"enter a number\"))\n",
    "if a%2==0:\n",
    "    print(f\"{a} is even\")\n",
    "else:\n",
    "    print(f\"{a} is odd\")"
   ]
  },
  {
   "cell_type": "markdown",
   "metadata": {},
   "source": [
    "# nested if statement"
   ]
  },
  {
   "cell_type": "code",
   "execution_count": null,
   "metadata": {},
   "outputs": [],
   "source": [
    "#case change lower=small\n",
    "C\n",
    "if user_cnic=='yes':\n",
    "    print(\"he has a valid cnic\")\n",
    "    voter_list=(input(\"is your name is the voterlist\")).lower()\n",
    "    if voter_list=='yes':\n",
    "        print(\"you are register voter\")\n",
    "        print(\"you can vote\")\n",
    "    else:\n",
    "        print(\"you cant vote get lost\")\n",
    "else:\n",
    "    print(\"abhi ap chote ho\")"
   ]
  },
  {
   "cell_type": "code",
   "execution_count": 1,
   "metadata": {},
   "outputs": [
    {
     "name": "stdout",
     "output_type": "stream",
     "text": [
      "do you have cnicyes\n",
      "you have a valid cnic\n",
      "is your name in the voter listyes\n",
      "you are a register voter\n",
      "you can vote\n"
     ]
    }
   ],
   "source": [
    "user_cnic=(input(\"do you have cnic\")).lower()\n",
    "if user_cnic=='yes':\n",
    "    print(\"you have a valid cnic\")\n",
    "    voter_list=(input(\"is your name in the voter list\")).lower()\n",
    "    if voter_list=='yes':\n",
    "        print(\"you are a register voter\")\n",
    "        print(\"you can vote\")\n",
    "    else:\n",
    "        print(\"you cant vote\")\n",
    "else:\n",
    "    print(\"you cannot cast vote\")"
   ]
  },
  {
   "cell_type": "code",
   "execution_count": 3,
   "metadata": {},
   "outputs": [
    {
     "ename": "SyntaxError",
     "evalue": "invalid syntax (<ipython-input-3-1b6ecb82b746>, line 5)",
     "output_type": "error",
     "traceback": [
      "\u001b[1;36m  File \u001b[1;32m\"<ipython-input-3-1b6ecb82b746>\"\u001b[1;36m, line \u001b[1;32m5\u001b[0m\n\u001b[1;33m    if ticket=='yes'\u001b[0m\n\u001b[1;37m                    ^\u001b[0m\n\u001b[1;31mSyntaxError\u001b[0m\u001b[1;31m:\u001b[0m invalid syntax\n"
     ]
    }
   ],
   "source": [
    "user_age =int(input(\"what is your age?\")).lower()\n",
    "if user_age>18:\n",
    "    print(\"Age is ok!\")\n",
    "    ticket=(input(\"Do you have a movie ticket?\"))\n",
    "    if ticket=='yes'\n",
    "    print(\"you can watch a movie now\")\n",
    "    else:\n",
    "    print(\"you dont have movie ticket go back\")\n",
    "else:\n",
    "    print(\"you are too young\")"
   ]
  },
  {
   "cell_type": "markdown",
   "metadata": {},
   "source": [
    "# #elif statement"
   ]
  },
  {
   "cell_type": "code",
   "execution_count": null,
   "metadata": {},
   "outputs": [],
   "source": [
    "num1=int(input(\"enter number\"))\n",
    "num2=int(input(\"enter number\"))\n",
    "if num1>num2:\n",
    "    print(f\"{num1} is greater than {num2}\")\n",
    "elif num1==num2:\n",
    "    print(f\"{num1} is equals to {num2}\")\n",
    "else:\n",
    "    print(f\"{num1} is less than {num2}\")"
   ]
  },
  {
   "cell_type": "code",
   "execution_count": 3,
   "metadata": {},
   "outputs": [
    {
     "name": "stdout",
     "output_type": "stream",
     "text": [
      "do you have cnicyes\n",
      "is your name is the voterlistno\n",
      "not allowed\n"
     ]
    }
   ],
   "source": [
    "#and statement\n",
    "user_cnic=(input(\"do you have cnic\")).lower()\n",
    "voter_list=(input(\"is your name is the voterlist\")).lower()\n",
    "if user_cnic=='yes' and voter_list=='yes':\n",
    "    print(\"allowed\")\n",
    "else:\n",
    "    print(\"not allowed\")"
   ]
  },
  {
   "cell_type": "code",
   "execution_count": null,
   "metadata": {},
   "outputs": [],
   "source": []
  }
 ],
 "metadata": {
  "kernelspec": {
   "display_name": "Python 3",
   "language": "python",
   "name": "python3"
  },
  "language_info": {
   "codemirror_mode": {
    "name": "ipython",
    "version": 3
   },
   "file_extension": ".py",
   "mimetype": "text/x-python",
   "name": "python",
   "nbconvert_exporter": "python",
   "pygments_lexer": "ipython3",
   "version": "3.7.3"
  }
 },
 "nbformat": 4,
 "nbformat_minor": 2
}
